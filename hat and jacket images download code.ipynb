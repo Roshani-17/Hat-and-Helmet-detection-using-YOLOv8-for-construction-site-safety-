{
 "cells": [
  {
   "cell_type": "code",
   "execution_count": 1,
   "id": "059f2a10",
   "metadata": {},
   "outputs": [
    {
     "name": "stderr",
     "output_type": "stream",
     "text": [
      "[========================================================================] 100%\n"
     ]
    }
   ],
   "source": [
    "from simple_image_download import simple_image_download as simp\n",
    "response=simp.simple_image_download\n",
    "keywords=['building workers']\n",
    "for kw in keywords:\n",
    "    response().download(kw,200)"
   ]
  },
  {
   "cell_type": "code",
   "execution_count": null,
   "id": "1809c5d2",
   "metadata": {},
   "outputs": [],
   "source": []
  }
 ],
 "metadata": {
  "kernelspec": {
   "display_name": "Python [conda env:yolov8_custom]",
   "language": "python",
   "name": "conda-env-yolov8_custom-py"
  },
  "language_info": {
   "codemirror_mode": {
    "name": "ipython",
    "version": 3
   },
   "file_extension": ".py",
   "mimetype": "text/x-python",
   "name": "python",
   "nbconvert_exporter": "python",
   "pygments_lexer": "ipython3",
   "version": "3.9.18"
  }
 },
 "nbformat": 4,
 "nbformat_minor": 5
}
